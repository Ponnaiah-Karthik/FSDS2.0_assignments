{
 "cells": [
  {
   "cell_type": "markdown",
   "metadata": {},
   "source": [
    "In the below elemets which of them are values or an expression? eg:- values can be integer or string and expressions will be mathematical operators.\n",
    "*\n",
    "'hello'\n",
    "-87.8\n",
    "-\n",
    "/\n",
    "+\n",
    "6"
   ]
  },
  {
   "cell_type": "markdown",
   "metadata": {},
   "source": [
    "ANS: \n",
    "values=['hello',-87.8,6]\n",
    "expression=[*,-,/,+]\n"
   ]
  },
  {
   "cell_type": "markdown",
   "metadata": {},
   "source": [
    "2. What is the difference between string and variable?"
   ]
  },
  {
   "cell_type": "markdown",
   "metadata": {},
   "source": [
    "ANS: String - is a collection of characters and is one of the primitive datatype available in python.\n",
    "variable - is a referencing name which is used to access a object or value in python."
   ]
  },
  {
   "cell_type": "markdown",
   "metadata": {},
   "source": [
    "3. Describe three different data types."
   ]
  },
  {
   "cell_type": "markdown",
   "metadata": {},
   "source": [
    "ANS: Numeric Values(integer,float), String,Boolean(True,False)\n",
    "These are the few datatype classification availabe in python"
   ]
  },
  {
   "cell_type": "markdown",
   "metadata": {},
   "source": [
    "4. What is an expression made up of? What do all expressions do?"
   ]
  },
  {
   "cell_type": "markdown",
   "metadata": {},
   "source": [
    "ANS: Expression contains operends and operators that upon executing provides a different value. The evaluation is done by the precedence of operators"
   ]
  },
  {
   "cell_type": "markdown",
   "metadata": {},
   "source": [
    "5. This assignment statements, like spam = 10. What is the difference between an\n",
    "expression and a statement?"
   ]
  },
  {
   "cell_type": "markdown",
   "metadata": {},
   "source": [
    "ANS: The above statement spam = 10 is an expression where the value 10 is assigned to the variable spam, Where as a statement is a command that is executed by a compiler or interpreter, it is a part of a block of code."
   ]
  },
  {
   "cell_type": "markdown",
   "metadata": {},
   "source": [
    "6. After running the following code, what does the variable bacon contain?\n",
    "bacon = 22\n",
    "bacon + 1"
   ]
  },
  {
   "cell_type": "markdown",
   "metadata": {},
   "source": [
    "bacon contains the value 22"
   ]
  },
  {
   "cell_type": "markdown",
   "metadata": {},
   "source": [
    "7. What should the values of the following two terms be?\n",
    "\n",
    "'spam' + 'spamspam'\n",
    "\n",
    "'spam' * 3"
   ]
  },
  {
   "cell_type": "markdown",
   "metadata": {},
   "source": [
    "spamspamspam\n",
    "\n",
    "spamspamspam"
   ]
  },
  {
   "cell_type": "markdown",
   "metadata": {},
   "source": [
    "8. Why is eggs a valid variable name while 100 is invalid?"
   ]
  },
  {
   "cell_type": "markdown",
   "metadata": {},
   "source": [
    "According to the naming rules for a variable is that the starting of a name should be an alphabet or a underscore[_],\n",
    "\n",
    "This rule is violated by the name 100 so it is an invalid varaible name. \n",
    "\n",
    "eggs is a valid variable name."
   ]
  },
  {
   "cell_type": "markdown",
   "metadata": {},
   "source": [
    "9. What three functions can be used to get the integer, floating-point number, or string\n",
    "version of a value?"
   ]
  },
  {
   "cell_type": "markdown",
   "metadata": {},
   "source": [
    "Typecasting is by which we can convert the value form one datatype to another\n",
    "\n",
    "Some of the examples would be int(), float(),str()\n",
    "\n",
    "These functions are used for type casting and converting values from one type to another"
   ]
  },
  {
   "cell_type": "markdown",
   "metadata": {},
   "source": [
    "10. Why does this expression cause an error? How can you fix it?\n",
    "\n",
    "'I have eaten ' + 99 + ' burritos.'"
   ]
  },
  {
   "cell_type": "markdown",
   "metadata": {},
   "source": [
    "concatenation operation can only be done on strings, as the value 99 is an interger so in the above line the error pops up.\n",
    "\n",
    "Fixed line: 'I have eaten'+'99'+'burritos'"
   ]
  },
  {
   "cell_type": "markdown",
   "metadata": {},
   "source": []
  }
 ],
 "metadata": {
  "kernelspec": {
   "display_name": "Python 3.9.6 64-bit",
   "language": "python",
   "name": "python3"
  },
  "language_info": {
   "codemirror_mode": {
    "name": "ipython",
    "version": 3
   },
   "file_extension": ".py",
   "mimetype": "text/x-python",
   "name": "python",
   "nbconvert_exporter": "python",
   "pygments_lexer": "ipython3",
   "version": "3.9.6"
  },
  "orig_nbformat": 4,
  "vscode": {
   "interpreter": {
    "hash": "9e719a9b775696618c448674e7df537d04a9c371068fc6eec673c4a0ff86f4dd"
   }
  }
 },
 "nbformat": 4,
 "nbformat_minor": 2
}
